{
  "nbformat": 4,
  "nbformat_minor": 0,
  "metadata": {
    "colab": {
      "name": "MultipleLinearRegression.ipynb",
      "provenance": [],
      "collapsed_sections": []
    },
    "kernelspec": {
      "name": "python3",
      "display_name": "Python 3"
    }
  },
  "cells": [
    {
      "cell_type": "code",
      "metadata": {
        "id": "llsZtkqc65KX",
        "colab_type": "code",
        "colab": {}
      },
      "source": [
        "# Mengimpor library yang diperlukan\n",
        "import numpy as np\n",
        "import pandas as pd\n",
        "from sklearn.preprocessing import OneHotEncoder\n",
        "from sklearn.compose import ColumnTransformer\n",
        "from sklearn.model_selection import train_test_split\n",
        "from sklearn.linear_model import LinearRegression\n",
        "import statsmodels.api as sm\n",
        "from sklearn.metrics import mean_squared_error\n",
        "from math import sqrt\n",
        "from pandas import DataFrame"
      ],
      "execution_count": null,
      "outputs": []
    },
    {
      "cell_type": "code",
      "metadata": {
        "id": "Fu6eMaml8QDx",
        "colab_type": "code",
        "colab": {}
      },
      "source": [
        "# Mengimpor dataset\n",
        "dataset = pd.read_csv('predictpekerja.csv')\n",
        "X = dataset.iloc[:, :-1].values\n",
        "Tampilkan_X = pd.DataFrame(X) #visualisasi X\n",
        "y = dataset.iloc[:, 5].values"
      ],
      "execution_count": null,
      "outputs": []
    },
    {
      "cell_type": "code",
      "metadata": {
        "id": "D-zCmTFL8QO1",
        "colab_type": "code",
        "colab": {}
      },
      "source": [
        "# Membagi data menjadi the Training set and Test set\n",
        "X_train, X_test, y_train, y_test = train_test_split(X, y, test_size = 0.2, random_state = 0)"
      ],
      "execution_count": null,
      "outputs": []
    },
    {
      "cell_type": "code",
      "metadata": {
        "id": "_N8K2rNq8QRl",
        "colab_type": "code",
        "colab": {
          "base_uri": "https://localhost:8080/",
          "height": 35
        },
        "outputId": "3764a351-a129-4802-9f0f-fdc12de62dde"
      },
      "source": [
        "# Membuat model Multiple Linear Regression dari Training set\n",
        "regressor = LinearRegression()\n",
        "regressor.fit(X_train, y_train)"
      ],
      "execution_count": null,
      "outputs": [
        {
          "output_type": "execute_result",
          "data": {
            "text/plain": [
              "LinearRegression(copy_X=True, fit_intercept=True, n_jobs=None, normalize=False)"
            ]
          },
          "metadata": {
            "tags": []
          },
          "execution_count": 145
        }
      ]
    },
    {
      "cell_type": "code",
      "metadata": {
        "id": "5LAtdjod8QT0",
        "colab_type": "code",
        "colab": {}
      },
      "source": [
        "# Memprediksi hasil Test set\n",
        "y_pred = regressor.predict(X_test)"
      ],
      "execution_count": null,
      "outputs": []
    },
    {
      "cell_type": "code",
      "metadata": {
        "id": "RmfsjWri8QX8",
        "colab_type": "code",
        "colab": {
          "base_uri": "https://localhost:8080/",
          "height": 516
        },
        "outputId": "e6d02a6a-ad60-46fa-81b2-52b77f9b547b"
      },
      "source": [
        "X_new = sm.add_constant(X)\n",
        "X_opt = X_new[:, :]\n",
        "regressor_OLS = sm.OLS(endog = y, exog = X_opt).fit()\n",
        "regressor_OLS.summary()"
      ],
      "execution_count": null,
      "outputs": [
        {
          "output_type": "execute_result",
          "data": {
            "text/html": [
              "<table class=\"simpletable\">\n",
              "<caption>OLS Regression Results</caption>\n",
              "<tr>\n",
              "  <th>Dep. Variable:</th>            <td>y</td>        <th>  R-squared:         </th> <td>   0.242</td>\n",
              "</tr>\n",
              "<tr>\n",
              "  <th>Model:</th>                   <td>OLS</td>       <th>  Adj. R-squared:    </th> <td>   0.084</td>\n",
              "</tr>\n",
              "<tr>\n",
              "  <th>Method:</th>             <td>Least Squares</td>  <th>  F-statistic:       </th> <td>   1.534</td>\n",
              "</tr>\n",
              "<tr>\n",
              "  <th>Date:</th>             <td>Mon, 06 Jul 2020</td> <th>  Prob (F-statistic):</th>  <td> 0.217</td> \n",
              "</tr>\n",
              "<tr>\n",
              "  <th>Time:</th>                 <td>04:28:16</td>     <th>  Log-Likelihood:    </th> <td> -60.017</td>\n",
              "</tr>\n",
              "<tr>\n",
              "  <th>No. Observations:</th>      <td>    30</td>      <th>  AIC:               </th> <td>   132.0</td>\n",
              "</tr>\n",
              "<tr>\n",
              "  <th>Df Residuals:</th>          <td>    24</td>      <th>  BIC:               </th> <td>   140.4</td>\n",
              "</tr>\n",
              "<tr>\n",
              "  <th>Df Model:</th>              <td>     5</td>      <th>                     </th>     <td> </td>   \n",
              "</tr>\n",
              "<tr>\n",
              "  <th>Covariance Type:</th>      <td>nonrobust</td>    <th>                     </th>     <td> </td>   \n",
              "</tr>\n",
              "</table>\n",
              "<table class=\"simpletable\">\n",
              "<tr>\n",
              "    <td></td>       <th>coef</th>     <th>std err</th>      <th>t</th>      <th>P>|t|</th>  <th>[0.025</th>    <th>0.975]</th>  \n",
              "</tr>\n",
              "<tr>\n",
              "  <th>const</th> <td>    7.6434</td> <td>    2.449</td> <td>    3.121</td> <td> 0.005</td> <td>    2.589</td> <td>   12.697</td>\n",
              "</tr>\n",
              "<tr>\n",
              "  <th>x1</th>    <td>    1.5352</td> <td>    1.140</td> <td>    1.346</td> <td> 0.191</td> <td>   -0.818</td> <td>    3.889</td>\n",
              "</tr>\n",
              "<tr>\n",
              "  <th>x2</th>    <td>    0.0256</td> <td>    0.320</td> <td>    0.080</td> <td> 0.937</td> <td>   -0.634</td> <td>    0.685</td>\n",
              "</tr>\n",
              "<tr>\n",
              "  <th>x3</th>    <td>   -1.3808</td> <td>    0.988</td> <td>   -1.398</td> <td> 0.175</td> <td>   -3.420</td> <td>    0.658</td>\n",
              "</tr>\n",
              "<tr>\n",
              "  <th>x4</th>    <td>    0.8677</td> <td>    0.450</td> <td>    1.928</td> <td> 0.066</td> <td>   -0.061</td> <td>    1.797</td>\n",
              "</tr>\n",
              "<tr>\n",
              "  <th>x5</th>    <td>   -0.0853</td> <td>    0.763</td> <td>   -0.112</td> <td> 0.912</td> <td>   -1.661</td> <td>    1.490</td>\n",
              "</tr>\n",
              "</table>\n",
              "<table class=\"simpletable\">\n",
              "<tr>\n",
              "  <th>Omnibus:</th>       <td> 2.701</td> <th>  Durbin-Watson:     </th> <td>   2.056</td>\n",
              "</tr>\n",
              "<tr>\n",
              "  <th>Prob(Omnibus):</th> <td> 0.259</td> <th>  Jarque-Bera (JB):  </th> <td>   1.445</td>\n",
              "</tr>\n",
              "<tr>\n",
              "  <th>Skew:</th>          <td> 0.201</td> <th>  Prob(JB):          </th> <td>   0.486</td>\n",
              "</tr>\n",
              "<tr>\n",
              "  <th>Kurtosis:</th>      <td> 2.002</td> <th>  Cond. No.          </th> <td>    36.4</td>\n",
              "</tr>\n",
              "</table><br/><br/>Warnings:<br/>[1] Standard Errors assume that the covariance matrix of the errors is correctly specified."
            ],
            "text/plain": [
              "<class 'statsmodels.iolib.summary.Summary'>\n",
              "\"\"\"\n",
              "                            OLS Regression Results                            \n",
              "==============================================================================\n",
              "Dep. Variable:                      y   R-squared:                       0.242\n",
              "Model:                            OLS   Adj. R-squared:                  0.084\n",
              "Method:                 Least Squares   F-statistic:                     1.534\n",
              "Date:                Mon, 06 Jul 2020   Prob (F-statistic):              0.217\n",
              "Time:                        04:28:16   Log-Likelihood:                -60.017\n",
              "No. Observations:                  30   AIC:                             132.0\n",
              "Df Residuals:                      24   BIC:                             140.4\n",
              "Df Model:                           5                                         \n",
              "Covariance Type:            nonrobust                                         \n",
              "==============================================================================\n",
              "                 coef    std err          t      P>|t|      [0.025      0.975]\n",
              "------------------------------------------------------------------------------\n",
              "const          7.6434      2.449      3.121      0.005       2.589      12.697\n",
              "x1             1.5352      1.140      1.346      0.191      -0.818       3.889\n",
              "x2             0.0256      0.320      0.080      0.937      -0.634       0.685\n",
              "x3            -1.3808      0.988     -1.398      0.175      -3.420       0.658\n",
              "x4             0.8677      0.450      1.928      0.066      -0.061       1.797\n",
              "x5            -0.0853      0.763     -0.112      0.912      -1.661       1.490\n",
              "==============================================================================\n",
              "Omnibus:                        2.701   Durbin-Watson:                   2.056\n",
              "Prob(Omnibus):                  0.259   Jarque-Bera (JB):                1.445\n",
              "Skew:                           0.201   Prob(JB):                        0.486\n",
              "Kurtosis:                       2.002   Cond. No.                         36.4\n",
              "==============================================================================\n",
              "\n",
              "Warnings:\n",
              "[1] Standard Errors assume that the covariance matrix of the errors is correctly specified.\n",
              "\"\"\""
            ]
          },
          "metadata": {
            "tags": []
          },
          "execution_count": 147
        }
      ]
    },
    {
      "cell_type": "code",
      "metadata": {
        "id": "W4EtPAbseQSy",
        "colab_type": "code",
        "colab": {}
      },
      "source": [
        "y_pred = regressor.predict(X_test)"
      ],
      "execution_count": null,
      "outputs": []
    },
    {
      "cell_type": "code",
      "metadata": {
        "id": "osLTw0n6h2xH",
        "colab_type": "code",
        "colab": {
          "base_uri": "https://localhost:8080/",
          "height": 223
        },
        "outputId": "792ecf9f-92ad-4d2a-def4-695a63cca4cf"
      },
      "source": [
        "df = pd.DataFrame({'Actual':y_test, 'Predicted':y_pred})\n",
        "df"
      ],
      "execution_count": null,
      "outputs": [
        {
          "output_type": "execute_result",
          "data": {
            "text/html": [
              "<div>\n",
              "<style scoped>\n",
              "    .dataframe tbody tr th:only-of-type {\n",
              "        vertical-align: middle;\n",
              "    }\n",
              "\n",
              "    .dataframe tbody tr th {\n",
              "        vertical-align: top;\n",
              "    }\n",
              "\n",
              "    .dataframe thead th {\n",
              "        text-align: right;\n",
              "    }\n",
              "</style>\n",
              "<table border=\"1\" class=\"dataframe\">\n",
              "  <thead>\n",
              "    <tr style=\"text-align: right;\">\n",
              "      <th></th>\n",
              "      <th>Actual</th>\n",
              "      <th>Predicted</th>\n",
              "    </tr>\n",
              "  </thead>\n",
              "  <tbody>\n",
              "    <tr>\n",
              "      <th>0</th>\n",
              "      <td>8</td>\n",
              "      <td>9.702557</td>\n",
              "    </tr>\n",
              "    <tr>\n",
              "      <th>1</th>\n",
              "      <td>13</td>\n",
              "      <td>8.104289</td>\n",
              "    </tr>\n",
              "    <tr>\n",
              "      <th>2</th>\n",
              "      <td>10</td>\n",
              "      <td>10.177200</td>\n",
              "    </tr>\n",
              "    <tr>\n",
              "      <th>3</th>\n",
              "      <td>9</td>\n",
              "      <td>10.281594</td>\n",
              "    </tr>\n",
              "    <tr>\n",
              "      <th>4</th>\n",
              "      <td>8</td>\n",
              "      <td>9.455453</td>\n",
              "    </tr>\n",
              "    <tr>\n",
              "      <th>5</th>\n",
              "      <td>10</td>\n",
              "      <td>5.695627</td>\n",
              "    </tr>\n",
              "  </tbody>\n",
              "</table>\n",
              "</div>"
            ],
            "text/plain": [
              "   Actual  Predicted\n",
              "0       8   9.702557\n",
              "1      13   8.104289\n",
              "2      10  10.177200\n",
              "3       9  10.281594\n",
              "4       8   9.455453\n",
              "5      10   5.695627"
            ]
          },
          "metadata": {
            "tags": []
          },
          "execution_count": 152
        }
      ]
    },
    {
      "cell_type": "code",
      "metadata": {
        "id": "m2JUuGgHheQp",
        "colab_type": "code",
        "colab": {
          "base_uri": "https://localhost:8080/",
          "height": 35
        },
        "outputId": "b0bce09b-313c-4eb3-e420-de454e7d1786"
      },
      "source": [
        "print('Root Mean Square Error',sqrt(mean_squared_error(y_test, y_pred, squared=False)))"
      ],
      "execution_count": null,
      "outputs": [
        {
          "output_type": "stream",
          "text": [
            "Mean Square Error 1.692091176121565\n"
          ],
          "name": "stdout"
        }
      ]
    }
  ]
}